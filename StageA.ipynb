{
 "cells": [
  {
   "cell_type": "markdown",
   "id": "f31e090a-4450-4a1e-a98c-c8e5bd2285a5",
   "metadata": {},
   "source": [
    "Question 1 : What is the total number and percentage of missing data in 2014 to 3 decimal places?"
   ]
  },
  {
   "cell_type": "code",
   "execution_count": 11,
   "id": "bd106bae-344a-457f-8925-49273f05be92",
   "metadata": {},
   "outputs": [
    {
     "data": {
      "text/plain": [
       "(1589, '2.607%')"
      ]
     },
     "execution_count": 11,
     "metadata": {},
     "output_type": "execute_result"
    }
   ],
   "source": [
    "import pandas as pd\n",
    "\n",
    "# Load the dataset from the extracted CSV file\n",
    "csv_path = 'FoodBalanceSheets_E_Africa_NOFLAG.csv'\n",
    "data = pd.read_csv(csv_path, encoding='latin-1')\n",
    "\n",
    "# Calculate the number of missing values in the column for the year 2014\n",
    "missing_2014 = data['Y2014'].isnull().sum()\n",
    "\n",
    "# Calculate the total number of entries in the dataset\n",
    "total_entries_2014 = len(data['Y2014'])\n",
    "\n",
    "# Calculate the percentage of missing data\n",
    "percentage_missing_2014 = (missing_2014 / total_entries_2014) * 100\n",
    "\n",
    "# Format the output to 3 decimal places\n",
    "missing_2014, total_entries_2014, formatted_percentage_2014 = missing_2014, total_entries_2014, f\"{percentage_missing_2014:.3f}%\"\n",
    "\n",
    "missing_2014, formatted_percentage_2014\n"
   ]
  },
  {
   "cell_type": "markdown",
   "id": "16f300e8-7d96-4eb7-8c3c-39c766c0195a",
   "metadata": {},
   "source": [
    "Question 4 : which year had the least correlation with 'Element Code'"
   ]
  },
  {
   "cell_type": "code",
   "execution_count": null,
   "id": "dec01917-455c-4d32-aa3c-5113009b2d8d",
   "metadata": {},
   "outputs": [],
   "source": [
    "# Load the dataset from the CSV file again to ensure we're working with the correct data\n",
    "data = pd.read_csv(csv_path, encoding='latin-1')\n",
    "\n",
    "# Calculate the correlation coefficients for 'Element Code' with each specified year\n",
    "correlation_2014 = data['Element Code'].corr(data['Y2014'])\n",
    "correlation_2015 = data['Element Code'].corr(data['Y2015'])\n",
    "correlation_2016 = data['Element Code'].corr(data['Y2016'])\n",
    "correlation_2017 = data['Element Code'].corr(data['Y2017'])\n",
    "\n",
    "# Determine the year with the least correlation\n",
    "year_correlations = {\n",
    "    '2014': abs(correlation_2014),\n",
    "    '2015': abs(correlation_2015),\n",
    "    '2016': abs(correlation_2016),\n",
    "    '2017': abs(correlation_2017)\n",
    "}\n",
    "\n",
    "year_correlations\n"
   ]
  },
  {
   "cell_type": "markdown",
   "id": "8b935b54-acab-4323-9695-b542b73d4c0b",
   "metadata": {},
   "source": [
    "Based on the absolute values of the correlation coefficients calculated between 'Element Code' and each of the years:\n",
    "\n",
    "    2014: 0.0245\n",
    "    2015: 0.0239\n",
    "    2016: 0.0234\n",
    "    2017: 0.0243\n",
    "\n",
    "The year 2016 has the least correlation with 'Element Code', with a correlation coefficient closest to 0."
   ]
  },
  {
   "cell_type": "markdown",
   "id": "4772ab10-4660-4489-a88d-9536f71586d5",
   "metadata": {},
   "source": [
    "Question 5 : which area had the highest sum in 2017"
   ]
  },
  {
   "cell_type": "code",
   "execution_count": 3,
   "id": "60f958f5-e442-4f30-bb4a-d2b13b947de0",
   "metadata": {},
   "outputs": [
    {
     "data": {
      "text/plain": [
       "('Nigeria', 1483268.23)"
      ]
     },
     "execution_count": 3,
     "metadata": {},
     "output_type": "execute_result"
    }
   ],
   "source": [
    "# Perform a groupby operation on 'Area' and then sum up the values for 2017\n",
    "area_grouped = data.groupby('Area')['Y2017'].sum()\n",
    "\n",
    "# Find the area with the highest sum in 2017\n",
    "highest_area_2017 = area_grouped.idxmax()\n",
    "highest_sum_2017 = area_grouped.max()\n",
    "\n",
    "highest_area_2017, highest_sum_2017\n"
   ]
  },
  {
   "cell_type": "markdown",
   "id": "4eb71ecf-9d36-40be-9bdd-5067bb9dbbf4",
   "metadata": {},
   "source": [
    "Question 6 : which year has the highest sum of 'Stock Variation' "
   ]
  },
  {
   "cell_type": "code",
   "execution_count": 4,
   "id": "85f08864-3a6f-4cce-878e-db24793e6c63",
   "metadata": {},
   "outputs": [
    {
     "data": {
      "text/plain": [
       "('2014', 58749.83)"
      ]
     },
     "execution_count": 4,
     "metadata": {},
     "output_type": "execute_result"
    }
   ],
   "source": [
    "# First, filter the data for the 'Stock Variation' element\n",
    "stock_variation_data = data[data['Element'] == 'Stock Variation']\n",
    "\n",
    "# Now we will sum the values of 'Stock Variation' for each of the years in question\n",
    "stock_variation_sums = {\n",
    "    '2014': stock_variation_data['Y2014'].sum(),\n",
    "    '2015': stock_variation_data['Y2015'].sum(),\n",
    "    '2016': stock_variation_data['Y2016'].sum(),\n",
    "    '2017': stock_variation_data['Y2017'].sum()\n",
    "}\n",
    "\n",
    "# Determine which year had the highest sum of 'Stock Variation'\n",
    "highest_stock_variation_year = max(stock_variation_sums, key=stock_variation_sums.get)\n",
    "highest_stock_variation_year, stock_variation_sums[highest_stock_variation_year]\n"
   ]
  },
  {
   "cell_type": "markdown",
   "id": "3e0de844-4091-43af-99b7-30cfdb4d1941",
   "metadata": {},
   "source": [
    "The year with the highest sum of 'Stock Variation' is 2014. "
   ]
  },
  {
   "cell_type": "markdown",
   "id": "63561f0a-c39e-4f13-a69c-5625d92ff04e",
   "metadata": {},
   "source": [
    "Question 8 : "
   ]
  },
  {
   "cell_type": "code",
   "execution_count": 5,
   "id": "521baf66-64f0-4cd0-8dab-8a592609f349",
   "metadata": {},
   "outputs": [
    {
     "data": {
      "text/plain": [
       "(140.92, 1671.86)"
      ]
     },
     "execution_count": 5,
     "metadata": {},
     "output_type": "execute_result"
    }
   ],
   "source": [
    "# Calculate the mean and standard deviation for the year 2017\n",
    "mean_2017 = data['Y2017'].mean()\n",
    "std_dev_2017 = data['Y2017'].std()\n",
    "\n",
    "# Round the results to 2 decimal places\n",
    "mean_2017_rounded = round(mean_2017, 2)\n",
    "std_dev_2017_rounded = round(std_dev_2017, 2)\n",
    "\n",
    "mean_2017_rounded, std_dev_2017_rounded\n"
   ]
  },
  {
   "cell_type": "markdown",
   "id": "c460c3dd-5d6e-421c-857f-7b3992fb1d1d",
   "metadata": {},
   "source": [
    "The mean and standard deviation across the whole dataset for the year 2017 to two decimal places are 140.92 and 1671.86, respectively. "
   ]
  },
  {
   "cell_type": "markdown",
   "id": "2d035391-0ffb-4d81-a294-3f14a535b7f7",
   "metadata": {},
   "source": [
    "Question 9 :"
   ]
  },
  {
   "cell_type": "code",
   "execution_count": 6,
   "id": "18262087-266f-435d-891b-64f0a706b2bb",
   "metadata": {},
   "outputs": [
    {
     "data": {
      "text/plain": [
       "('Guinea-Bissau', 19102.77)"
      ]
     },
     "execution_count": 6,
     "metadata": {},
     "output_type": "execute_result"
    }
   ],
   "source": [
    "# Perform a groupby operation on 'Area' and then sum up the values for 2017\n",
    "area_sum_2017 = data.groupby('Area')['Y2017'].sum()\n",
    "\n",
    "# Sort the sums in ascending order and find the 7th lowest sum\n",
    "sorted_area_sum_2017 = area_sum_2017.sort_values()\n",
    "seventh_lowest_area = sorted_area_sum_2017.iloc[6]\n",
    "\n",
    "# Get the name of the area with the 7th lowest sum\n",
    "seventh_lowest_area_name = sorted_area_sum_2017.index[6]\n",
    "seventh_lowest_area_name, seventh_lowest_area\n"
   ]
  },
  {
   "cell_type": "markdown",
   "id": "e2610ca3-d7fc-4300-a6ce-9ef4a5f7e623",
   "metadata": {},
   "source": [
    "Question 12 : find the total sum of Wine produced in 2015 and 2018,"
   ]
  },
  {
   "cell_type": "code",
   "execution_count": 7,
   "id": "a035d3d7-4bd9-464b-a975-0b2b290ee826",
   "metadata": {},
   "outputs": [
    {
     "data": {
      "text/plain": [
       "(4251.81, 4039.32)"
      ]
     },
     "execution_count": 7,
     "metadata": {},
     "output_type": "execute_result"
    }
   ],
   "source": [
    "# Perform a groupby operation on 'Item' and then sum up the values for 2015 and 2018\n",
    "wine_production = data[data['Item'] == 'Wine'].groupby('Item').agg({'Y2015': 'sum', 'Y2018': 'sum'})\n",
    "\n",
    "# Extract the total production of wine for 2015 and 2018\n",
    "wine_production_2015_2018 = wine_production.loc['Wine']\n",
    "wine_production_2015_2018_values = (wine_production_2015_2018['Y2015'], wine_production_2015_2018['Y2018'])\n",
    "wine_production_2015_2018_values\n"
   ]
  },
  {
   "cell_type": "markdown",
   "id": "9fac48c6-026f-4273-bee5-5a96671fbd58",
   "metadata": {},
   "source": [
    "The total sum of Wine produced in 2015 was 4251.81, and in 2018 it was 4039.32"
   ]
  },
  {
   "cell_type": "markdown",
   "id": "29ae7928-b233-4eab-acb6-63fa3e6cc725",
   "metadata": {},
   "source": [
    "Question 14 : "
   ]
  },
  {
   "cell_type": "code",
   "execution_count": 8,
   "id": "7ce1f1e4-f886-45c4-bf12-b5137bded2e2",
   "metadata": {},
   "outputs": [
    {
     "data": {
      "text/plain": [
       "49"
      ]
     },
     "execution_count": 8,
     "metadata": {},
     "output_type": "execute_result"
    }
   ],
   "source": [
    "# Calculate the total number of unique countries (Areas) in the dataset\n",
    "total_unique_countries = data['Area'].nunique()\n",
    "total_unique_countries\n"
   ]
  },
  {
   "cell_type": "markdown",
   "id": "980dff88-b75f-4828-9a37-a0784b1e9127",
   "metadata": {},
   "source": [
    "The total number of unique countries in the dataset is 49"
   ]
  },
  {
   "cell_type": "markdown",
   "id": "970f9c58-e972-4da2-8a8d-894876ddd574",
   "metadata": {},
   "source": [
    "Question 16: find the total sum of Processing for the year 2017"
   ]
  },
  {
   "cell_type": "code",
   "execution_count": 9,
   "id": "8e9679a8-b2ef-43ff-a27f-c3a61fd06d88",
   "metadata": {},
   "outputs": [
    {
     "data": {
      "text/plain": [
       "292836.0"
      ]
     },
     "execution_count": 9,
     "metadata": {},
     "output_type": "execute_result"
    }
   ],
   "source": [
    "# Perform a groupby operation on 'Element' and sum up the values for 2017\n",
    "processing_sum_2017 = data[data['Element'] == 'Processing'].groupby('Element')['Y2017'].sum()\n",
    "\n",
    "# Retrieve the total number for 'Processing' in 2017\n",
    "processing_sum_2017_value = processing_sum_2017.iloc[0]\n",
    "processing_sum_2017_value\n"
   ]
  },
  {
   "cell_type": "markdown",
   "id": "dd78194a-32a9-4ba5-8659-8876647a92a2",
   "metadata": {},
   "source": [
    "The total sum of Processing in 2017 is 292836.00"
   ]
  },
  {
   "cell_type": "markdown",
   "id": "5bf8e61f-bc59-425e-a783-9261637b300f",
   "metadata": {},
   "source": [
    "Question 17: find the total Protein supply quantity in Madagascar for the year 2015"
   ]
  },
  {
   "cell_type": "code",
   "execution_count": 10,
   "id": "ea2d47aa-8585-46dd-9a02-26b46f5e26fc",
   "metadata": {},
   "outputs": [
    {
     "data": {
      "text/plain": [
       "173.04999999999998"
      ]
     },
     "execution_count": 10,
     "metadata": {},
     "output_type": "execute_result"
    }
   ],
   "source": [
    "# Filter the dataset for Madagascar and the Protein supply quantity element\n",
    "madagascar_protein_2015 = data[(data['Area'] == 'Madagascar') & \n",
    "                               (data['Element'] == 'Protein supply quantity (g/capita/day)')]\n",
    "\n",
    "# Sum the values for the year 2015\n",
    "total_protein_2015 = madagascar_protein_2015['Y2015'].sum()\n",
    "total_protein_2015\n"
   ]
  },
  {
   "cell_type": "markdown",
   "id": "c0beb132-6cb8-4e1e-82e9-6dcd7978f332",
   "metadata": {},
   "source": [
    "The total Protein supply quantity in Madagascar for the year 2015 is 173.05 (rounded to two decimal places)."
   ]
  }
 ],
 "metadata": {
  "kernelspec": {
   "display_name": "Python 3 (ipykernel)",
   "language": "python",
   "name": "python3"
  },
  "language_info": {
   "codemirror_mode": {
    "name": "ipython",
    "version": 3
   },
   "file_extension": ".py",
   "mimetype": "text/x-python",
   "name": "python",
   "nbconvert_exporter": "python",
   "pygments_lexer": "ipython3",
   "version": "3.12.1"
  }
 },
 "nbformat": 4,
 "nbformat_minor": 5
}
